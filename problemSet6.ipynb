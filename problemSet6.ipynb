{
 "metadata": {
  "name": "problemSet6"
 }, 
 "nbformat": 2, 
 "worksheets": [
  {
   "cells": [
    {
     "cell_type": "code", 
     "collapsed": true, 
     "input": [
      "import string", 
      "print string.ascii_lowercase"
     ], 
     "language": "python", 
     "outputs": [], 
     "prompt_number": 1
    }
   ]
  }
 ]
}